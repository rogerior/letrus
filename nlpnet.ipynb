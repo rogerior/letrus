{
 "cells": [
  {
   "cell_type": "markdown",
   "metadata": {},
   "source": [
    "### Preparar nlpnet"
   ]
  },
  {
   "cell_type": "code",
   "execution_count": 10,
   "metadata": {
    "scrolled": true
   },
   "outputs": [],
   "source": [
    "import nlpnet\n",
    "import re\n",
    "\n",
    "nlpnet.set_data_dir('C:\\\\Users\\\\Wanderson\\\\Google Drive\\\\Analytica\\\\letrus\\\\pos-pt')\n",
    "tagger = nlpnet.POSTagger()"
   ]
  },
  {
   "cell_type": "markdown",
   "metadata": {},
   "source": [
    "### Instanciar POS tagger"
   ]
  },
  {
   "cell_type": "code",
   "execution_count": 16,
   "metadata": {},
   "outputs": [
    {
     "data": {
      "text/plain": [
       "[[('Ela', 'PROPESS'),\n",
       "  ('lutou', 'V'),\n",
       "  ('por', 'PREP'),\n",
       "  ('meio', 'PREP'),\n",
       "  ('da', 'PREP+ART'),\n",
       "  ('sua', 'PROADJ'),\n",
       "  ('voz', 'N')]]"
      ]
     },
     "execution_count": 16,
     "metadata": {},
     "output_type": "execute_result"
    }
   ],
   "source": [
    "string = 'Ela lutou por meio da sua voz'\n",
    "tagged = tagger.tag(string)\n",
    "tagged"
   ]
  },
  {
   "cell_type": "markdown",
   "metadata": {},
   "source": [
    "### Definir Regras"
   ]
  },
  {
   "cell_type": "code",
   "execution_count": 17,
   "metadata": {
    "collapsed": true
   },
   "outputs": [],
   "source": [
    "# DET = ?\n",
    "regras = {\n",
    "    'modais': '(ADV)? (é|faz-se|V que) (ADV)? (importante|imprescindível|necessário|essencial) que',\n",
    "    'agente': '((DET|ART|DET ART)?) (N).*',\n",
    "    'acao': '(V).* (((DET|ART|DET ART)?) N).*',\n",
    "    'modo': '(através|por meio (do|de|da|dos|das)|com|mediante|de modo|como|de forma) ((DET|ART|DET ART)?) (N|ADV).*',\n",
    "    'efeito': '(para|com o intuito de|o objetivo de|a finalidade de|o fim de|a fim de que) ((DET|ART|DET ART)?) (N) |V.*\\.'\n",
    "}"
   ]
  },
  {
   "cell_type": "markdown",
   "metadata": {},
   "source": [
    "### Processar texto"
   ]
  },
  {
   "cell_type": "code",
   "execution_count": 18,
   "metadata": {},
   "outputs": [
    {
     "data": {
      "text/plain": [
       "'PROPESS V por meio da PROADJ N'"
      ]
     },
     "execution_count": 18,
     "metadata": {},
     "output_type": "execute_result"
    }
   ],
   "source": [
    "# problema: por meio -> por, meio\n",
    "reserved = ['é', 'faz-se', 'que', 'importante', 'imprescindível', 'necessário', 'essencial', \n",
    "            'através', 'por', 'meio', 'do', 'de', 'da', 'dos', 'das', 'com', 'mediante', 'de', 'modo', 'como', 'de','forma'\n",
    "           'para', 'com', 'o', 'intuito', 'de', 'o', 'objetivo', 'de', 'a', 'finalidade', 'de', 'o', 'fim', 'de', 'a',\n",
    "            'fim', 'de', 'que']\n",
    "\n",
    "texto = []\n",
    "for group in tagged:\n",
    "    \n",
    "    frase = []\n",
    "    for token in group:\n",
    "        if token[0] not in reserved:\n",
    "            frase.append(token[1])\n",
    "        else:\n",
    "            frase.append(token[0])\n",
    "        \n",
    "    texto.append(' '.join(frase))\n",
    "\n",
    "texto[0]"
   ]
  },
  {
   "cell_type": "markdown",
   "metadata": {},
   "source": [
    "### Aplicar Regras"
   ]
  },
  {
   "cell_type": "code",
   "execution_count": 14,
   "metadata": {},
   "outputs": [
    {
     "data": {
      "text/plain": [
       "<_sre.SRE_Match object; span=(10, 21), match='por meio da'>"
      ]
     },
     "execution_count": 14,
     "metadata": {},
     "output_type": "execute_result"
    }
   ],
   "source": [
    "# Modo/Meio\n",
    "# Locução prepositiva\n",
    "re.search(r'(através|por meio (do|de|da|dos|das)|com|mediante|de modo|como|de forma)', string)"
   ]
  },
  {
   "cell_type": "code",
   "execution_count": null,
   "metadata": {
    "collapsed": true
   },
   "outputs": [],
   "source": []
  }
 ],
 "metadata": {
  "kernelspec": {
   "display_name": "Python 3",
   "language": "python",
   "name": "python3"
  },
  "language_info": {
   "codemirror_mode": {
    "name": "ipython",
    "version": 3
   },
   "file_extension": ".py",
   "mimetype": "text/x-python",
   "name": "python",
   "nbconvert_exporter": "python",
   "pygments_lexer": "ipython3",
   "version": "3.6.3"
  }
 },
 "nbformat": 4,
 "nbformat_minor": 2
}
